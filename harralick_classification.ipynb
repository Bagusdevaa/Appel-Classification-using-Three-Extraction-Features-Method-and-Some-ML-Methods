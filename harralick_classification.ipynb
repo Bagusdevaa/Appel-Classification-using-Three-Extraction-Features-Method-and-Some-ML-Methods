{
 "cells": [
  {
   "cell_type": "code",
   "execution_count": 1,
   "metadata": {},
   "outputs": [
    {
     "name": "stdout",
     "output_type": "stream",
     "text": [
      "Classifier package loaded!\n"
     ]
    }
   ],
   "source": [
    "from classifier.knn import KNN"
   ]
  },
  {
   "cell_type": "code",
   "execution_count": 3,
   "metadata": {},
   "outputs": [],
   "source": [
    "import pandas as pd\n",
    "import numpy as np\n",
    "import matplotlib.pyplot as plt\n",
    "import seaborn as sns"
   ]
  },
  {
   "cell_type": "code",
   "execution_count": 9,
   "metadata": {},
   "outputs": [],
   "source": [
    "# Load fitur harralicknya\n",
    "\n",
    "kombinasiFeature = [[1, 2, 3], [0, 45, 90, 135]]\n",
    "\n",
    "list_harralick_dfs = []\n",
    "\n",
    "for d in kombinasiFeature[0]:\n",
    "    for theta in kombinasiFeature[1]:\n",
    "        df = pd.read_csv(f\"dataset/ExtractResult/harralick/features_d{d}_theta{theta}.csv\")\n",
    "        df = df.set_index('image')\n",
    "        list_harralick_dfs.append(df)"
   ]
  },
  {
   "cell_type": "code",
   "execution_count": 14,
   "metadata": {},
   "outputs": [
    {
     "data": {
      "text/plain": [
       "12"
      ]
     },
     "execution_count": 14,
     "metadata": {},
     "output_type": "execute_result"
    }
   ],
   "source": []
  }
 ],
 "metadata": {
  "kernelspec": {
   "display_name": "skripsi",
   "language": "python",
   "name": "python3"
  },
  "language_info": {
   "codemirror_mode": {
    "name": "ipython",
    "version": 3
   },
   "file_extension": ".py",
   "mimetype": "text/x-python",
   "name": "python",
   "nbconvert_exporter": "python",
   "pygments_lexer": "ipython3",
   "version": "3.11.9"
  }
 },
 "nbformat": 4,
 "nbformat_minor": 2
}
